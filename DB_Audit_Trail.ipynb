{
 "metadata": {
  "name": ""
 },
 "nbformat": 3,
 "nbformat_minor": 0,
 "worksheets": [
  {
   "cells": [
    {
     "cell_type": "heading",
     "level": 1,
     "metadata": {},
     "source": [
      "Everyday Scripting"
     ]
    },
    {
     "cell_type": "markdown",
     "metadata": {},
     "source": [
      "Utilizing the Ipython Notebook we can have all our code, write-up and charts in one place.\n",
      "\n",
      "The block of code below:\n",
      "\n",
      "1. Imports the code libraries we need for this exercise\n",
      "2. Connects to a sqlite database called contribs.sqlite\n",
      "3. Constructs today's date into a format like '20131216' we can use to make a date-stamped folder"
     ]
    },
    {
     "cell_type": "code",
     "collapsed": false,
     "input": [
      "import urllib\n",
      "import sqlite3\n",
      "import os\n",
      "import csv\n",
      "from datetime import datetime\n",
      "from nameparser import HumanName # nameparser module available here -- http://code.google.com/p/python-nameparser/\n",
      "\n",
      "\n",
      "## connect to an SQLite3 database\n",
      "conn = sqlite3.connect('contribs.sqlite', isolation_level=None) # creates the db file if it doesn't already exist. we set isolation_level to None so that we are in autocommit mode. that way the UPDATES are applied without further ado\n",
      "c = conn.cursor() # open the lines of communication with the database\n",
      "\n",
      "date_stamp = datetime.strftime(datetime.now(), '%Y%m%d')"
     ],
     "language": "python",
     "metadata": {},
     "outputs": [],
     "prompt_number": 3
    },
    {
     "cell_type": "markdown",
     "metadata": {},
     "source": [
      "Let's say you wanted to download some campaign finance data and do some stuff with it.\n",
      "\n",
      "First, create a date-stamped folder to house the raw data."
     ]
    },
    {
     "cell_type": "code",
     "collapsed": false,
     "input": [
      "# set-up a date stamped folder to hold the data in\n",
      "if os.path.isdir(date_stamp): # test to see if the folder already exists. if it does, delete it and everything in it.\n",
      "    try:\n",
      "        cmd = 'rm -rf %s' % date_stamp # try deleteing the folder\n",
      "        os.system(cmd)\n",
      "    except:\n",
      "        cmd = 'rmdir /S %s' % date_stamp # if the above fails try the Windows command line way. If both fail, the script fails\n",
      "        os.system(cmd)\n",
      "        \n",
      "os.mkdir(date_stamp) # creates a fresh folder"
     ],
     "language": "python",
     "metadata": {},
     "outputs": [],
     "prompt_number": 4
    },
    {
     "cell_type": "markdown",
     "metadata": {},
     "source": [
      "Construct the path to where you want to save the contribution data we pull down."
     ]
    },
    {
     "cell_type": "code",
     "collapsed": false,
     "input": [
      "file_path = os.path.join(date_stamp, 'contribs.csv') # file_path is a variable that points to a file called contribs.csv inside our date stamped folder"
     ],
     "language": "python",
     "metadata": {},
     "outputs": [],
     "prompt_number": 5
    },
    {
     "cell_type": "markdown",
     "metadata": {},
     "source": [
      "Now let's fetch the contributions from the CAL-ACCESS server."
     ]
    },
    {
     "cell_type": "code",
     "collapsed": false,
     "input": [
      "url = 'http://cal-access.sos.ca.gov/Campaign/Committees/DetailContributionsReceivedExcel.aspx?id=1340976&session=2011'"
     ],
     "language": "python",
     "metadata": {},
     "outputs": [],
     "prompt_number": 6
    },
    {
     "cell_type": "code",
     "collapsed": false,
     "input": [
      "try:\n",
      "    urllib.urlretrieve(url, file_path)\n",
      "    print 'fetched data, see %s' % file_path\n",
      "except:\n",
      "    print 'failed to fetch data'"
     ],
     "language": "python",
     "metadata": {},
     "outputs": [
      {
       "output_type": "stream",
       "stream": "stdout",
       "text": [
        "fetched data, see 20131217/contribs.csv\n"
       ]
      }
     ],
     "prompt_number": 7
    },
    {
     "cell_type": "markdown",
     "metadata": {},
     "source": [
      "Now that we have some data pulled down, let's open it up and grab the header row. We can use the headers to write an sql statement to create a contribs table in sqlite."
     ]
    },
    {
     "cell_type": "code",
     "collapsed": false,
     "input": [
      "infile = open(file_path) # open the csv file\n",
      "handle = csv.reader(infile, delimiter='\\t') # use the csv module to parse the csv\n",
      "headers = handle.next() # grab the header row\n",
      "infile.close() # close the csv file now that we're done"
     ],
     "language": "python",
     "metadata": {},
     "outputs": [],
     "prompt_number": 8
    },
    {
     "cell_type": "code",
     "collapsed": false,
     "input": [
      "print headers"
     ],
     "language": "python",
     "metadata": {},
     "outputs": [
      {
       "output_type": "stream",
       "stream": "stdout",
       "text": [
        "['NAME OF CONTRIBUTOR', 'PAYMENT TYPE', 'CITY', 'STATE', 'ZIP', 'ID NUMBER', 'EMPLOYER', 'OCCUPATION', 'AMOUNT', 'TRANSACTION DATE', 'FILED DATE', 'TRANSACTION NUMBER']\n"
       ]
      }
     ],
     "prompt_number": 9
    },
    {
     "cell_type": "markdown",
     "metadata": {},
     "source": [
      "Above you can see the names of all the columns in the contribs data we fetched. Let's check the databse to see if we already have a contribs table. If there is a contribs table, let's nuke it and use the fresh cut of data we just obtained."
     ]
    },
    {
     "cell_type": "code",
     "collapsed": false,
     "input": [
      "sql_statement = '''\n",
      "    SELECT name FROM sqlite_master WHERE type='table' AND name=\"%s_raw_contribs\"\n",
      "''' % date_stamp # sql to run\n",
      "cmd = c.execute(sql_statement) # run the sql\n",
      "results = cmd.fetchall() # fetch the data pulled out with the query\n",
      "if len(results) == 1: # if there is one row returned by the query, then the table exists\n",
      "    print 'table already exists, nuking it' # print out what you are about to do\n",
      "    sql_statement = \"DROP TABLE `%s_raw_contribs`\" % date_stamp # create the sql to nuke the table\n",
      "    cmd = c.execute(sql_statement) # run the sql and nuke the table"
     ],
     "language": "python",
     "metadata": {},
     "outputs": [],
     "prompt_number": 10
    },
    {
     "cell_type": "markdown",
     "metadata": {},
     "source": [
      "Now that we've cleaned out any old version of the table we may have already created today let's create the new, empty table."
     ]
    },
    {
     "cell_type": "code",
     "collapsed": false,
     "input": [
      "    ## create a table using the headers of the csv file\n",
      "    sql_statement = \"CREATE TABLE `%s_raw_contribs` (\" % date_stamp\n",
      "    \n",
      "    ## loop through the headers and use them to craft the rest of the sql statement\n",
      "    for i in range(len(headers)):\n",
      "        sql_friendly_header = headers[i].lower().replace(' ', '_') # index into the headers list, get rid of the spaces and change it from upper to lower case\n",
      "        if i == len(headers)-1:\n",
      "            creation_statement_piece = '%s TEXT' % sql_friendly_header # test to see if you are at the last element in the list. if you are, then you need to leave the comma out\n",
      "        else:\n",
      "            creation_statement_piece = '%s TEXT,' % sql_friendly_header\n",
      "        sql_statement += creation_statement_piece\n",
      "    sql_statement += ');' # put the finishing touch on the sql statement\n",
      "    c.execute(sql_statement) # use the sql statement we just wrote to create the table"
     ],
     "language": "python",
     "metadata": {},
     "outputs": [
      {
       "metadata": {},
       "output_type": "pyout",
       "prompt_number": 11,
       "text": [
        "<sqlite3.Cursor at 0x17822d0>"
       ]
      }
     ],
     "prompt_number": 11
    },
    {
     "cell_type": "markdown",
     "metadata": {},
     "source": [
      "Now let's open the file back up, loop through each line, construct an sql insert statement and execute it."
     ]
    },
    {
     "cell_type": "code",
     "collapsed": false,
     "input": [
      "file_path = os.path.join(date_stamp, 'contribs.csv')\n",
      "infile = open(file_path) # open the csv file\n",
      "handle = csv.reader(infile, delimiter='\\t') # use the csv module to parse the csv\n",
      "headers = handle.next() # grab the header row\n",
      "for h in handle: # loop through the data and insert it into the table\n",
      "    if len(h) == 12:\n",
      "        sql_statement = '''\n",
      "            INSERT INTO `%s_raw_contribs` VALUES( \"%s\", \"%s\", \"%s\", \"%s\", \"%s\", \"%s\", \"%s\", \"%s\", \"%s\", \"%s\", \"%s\", \"%s\" );\n",
      "        ''' % (date_stamp, h[0], h[1], h[2], h[3], h[4], h[5], h[6], h[7], h[8], h[9], h[10], h[11])\n",
      "        c.execute(sql_statement)\n",
      "    else:\n",
      "        print 'skipped row with %s columns' % len(h)\n",
      "infile.close() # close the csv file now that we're done\n",
      "print 'loaded up %s rows' % handle.line_num"
     ],
     "language": "python",
     "metadata": {},
     "outputs": [
      {
       "output_type": "stream",
       "stream": "stdout",
       "text": [
        "skipped row with 0 columns\n",
        "loaded up 108 rows\n"
       ]
      }
     ],
     "prompt_number": 12
    },
    {
     "cell_type": "markdown",
     "metadata": {},
     "source": [
      "Data is in, so let's check it out."
     ]
    },
    {
     "cell_type": "code",
     "collapsed": false,
     "input": [
      "sql_query = 'SELECT COUNT(*) FROM `%s_raw_contribs`' % date_stamp\n",
      "execute_query = c.execute(sql_query)\n",
      "rows = execute_query.fetchall()"
     ],
     "language": "python",
     "metadata": {},
     "outputs": [],
     "prompt_number": 16
    },
    {
     "cell_type": "code",
     "collapsed": false,
     "input": [
      "print rows"
     ],
     "language": "python",
     "metadata": {},
     "outputs": [
      {
       "output_type": "stream",
       "stream": "stdout",
       "text": [
        "[(107,)]\n"
       ]
      }
     ],
     "prompt_number": 17
    },
    {
     "cell_type": "code",
     "collapsed": false,
     "input": [
      "print rows[0]"
     ],
     "language": "python",
     "metadata": {},
     "outputs": [
      {
       "output_type": "stream",
       "stream": "stdout",
       "text": [
        "(107,)\n"
       ]
      }
     ],
     "prompt_number": 18
    },
    {
     "cell_type": "code",
     "collapsed": false,
     "input": [
      "print rows[0][0]"
     ],
     "language": "python",
     "metadata": {},
     "outputs": [
      {
       "output_type": "stream",
       "stream": "stdout",
       "text": [
        "107\n"
       ]
      }
     ],
     "prompt_number": 19
    },
    {
     "cell_type": "markdown",
     "metadata": {},
     "source": [
      "The raw data was all imported as text data to make sure nothing was mangled on the way in. Now let's make a proper amount field that we can sum up."
     ]
    },
    {
     "cell_type": "code",
     "collapsed": false,
     "input": [
      "sql_query = 'ALTER TABLE `%s_raw_contribs` ADD COLUMN fltAmount DECIMAL(16,2)' % date_stamp # create a new column to house the numeric data. right now it saved as a string value\n",
      "c.execute(sql_query)\n",
      "sql_query = 'SELECT rowid, amount, fltAmount from `%s_raw_contribs`' % date_stamp # grab the rows, \n",
      "execute_query = c.execute(sql_query)\n",
      "rows = execute_query.fetchall()\n",
      "for row in rows:\n",
      "    new_amount = row[1].replace('$', '').replace(',', '')\n",
      "    row_listprint '%s\\t%s\\t%s' % (row[0], row[1], new_amount) # i printed out the amounts while i was writing the script. no need for it now\n",
      "    sql_query = 'UPDATE `%s_raw_contribs` SET fltAmount = %s WHERE rowid= %s' % (date_stamp, new_amount, row[0])\n",
      "    c.execute(sql_query)"
     ],
     "language": "python",
     "metadata": {},
     "outputs": [
      {
       "output_type": "stream",
       "stream": "stdout",
       "text": [
        "1\t$8,077,126.97\t8077126.97\n",
        "2\t$150,000.00\t150000.00\n",
        "3\t$0.00\t0.00"
       ]
      },
      {
       "output_type": "stream",
       "stream": "stdout",
       "text": [
        "\n",
        "4\t$100.00\t100.00\n",
        "5\t$3,500.00\t3500.00"
       ]
      },
      {
       "output_type": "stream",
       "stream": "stdout",
       "text": [
        "\n",
        "6\t$125.00\t125.00"
       ]
      },
      {
       "output_type": "stream",
       "stream": "stdout",
       "text": [
        "\n",
        "7\t$225.00\t225.00\n",
        "8\t$413.25\t413.25"
       ]
      },
      {
       "output_type": "stream",
       "stream": "stdout",
       "text": [
        "\n",
        "9\t$1,000.00\t1000.00\n",
        "10\t$500.00\t500.00"
       ]
      },
      {
       "output_type": "stream",
       "stream": "stdout",
       "text": [
        "\n",
        "11\t$500.00\t500.00\n",
        "12\t$250.00\t250.00"
       ]
      },
      {
       "output_type": "stream",
       "stream": "stdout",
       "text": [
        "\n",
        "13\t$100.00\t100.00\n",
        "14\t$10,000.00\t10000.00"
       ]
      },
      {
       "output_type": "stream",
       "stream": "stdout",
       "text": [
        "\n",
        "15\t$3,000.00\t3000.00\n",
        "16\t$2,500.00\t2500.00"
       ]
      },
      {
       "output_type": "stream",
       "stream": "stdout",
       "text": [
        "\n",
        "17\t$2,500.00\t2500.00\n",
        "18\t$500.00\t500.00"
       ]
      },
      {
       "output_type": "stream",
       "stream": "stdout",
       "text": [
        "\n",
        "19\t$500.00\t500.00\n",
        "20\t$125.00\t125.00"
       ]
      },
      {
       "output_type": "stream",
       "stream": "stdout",
       "text": [
        "\n",
        "21\t$225.00\t225.00\n",
        "22\t$413.25\t413.25"
       ]
      },
      {
       "output_type": "stream",
       "stream": "stdout",
       "text": [
        "\n",
        "23\t$100.00\t100.00\n",
        "24\t$5,000.00\t5000.00"
       ]
      },
      {
       "output_type": "stream",
       "stream": "stdout",
       "text": [
        "\n",
        "25\t$10,000.00\t10000.00\n",
        "26\t($10,000.00)\t(10000.00)"
       ]
      },
      {
       "output_type": "stream",
       "stream": "stdout",
       "text": [
        "\n",
        "27\t$125.00\t125.00\n",
        "28\t$225.00\t225.00"
       ]
      },
      {
       "output_type": "stream",
       "stream": "stdout",
       "text": [
        "\n",
        "29\t$413.25\t413.25\n",
        "30\t$250.00\t250.00"
       ]
      },
      {
       "output_type": "stream",
       "stream": "stdout",
       "text": [
        "\n",
        "31\t$1,000.00\t1000.00\n",
        "32\t$14,000.00\t14000.00"
       ]
      },
      {
       "output_type": "stream",
       "stream": "stdout",
       "text": [
        "\n",
        "33\t$125.00\t125.00\n",
        "34\t$225.00\t225.00"
       ]
      },
      {
       "output_type": "stream",
       "stream": "stdout",
       "text": [
        "\n",
        "35\t$413.25\t413.25\n",
        "36\t$225.00\t225.00"
       ]
      },
      {
       "output_type": "stream",
       "stream": "stdout",
       "text": [
        "\n",
        "37\t$225.00\t225.00"
       ]
      },
      {
       "output_type": "stream",
       "stream": "stdout",
       "text": [
        "\n",
        "38\t$413.25\t413.25\n",
        "39\t$225.00\t225.00"
       ]
      },
      {
       "output_type": "stream",
       "stream": "stdout",
       "text": [
        "\n",
        "40\t$1,000.00\t1000.00\n",
        "41\t$225.00\t225.00"
       ]
      },
      {
       "output_type": "stream",
       "stream": "stdout",
       "text": [
        "\n",
        "42\t$413.25\t413.25\n",
        "43\t$1,250.00\t1250.00"
       ]
      },
      {
       "output_type": "stream",
       "stream": "stdout",
       "text": [
        "\n",
        "44\t$1,000.00\t1000.00\n",
        "45\t$500.00\t500.00"
       ]
      },
      {
       "output_type": "stream",
       "stream": "stdout",
       "text": [
        "\n",
        "46\t$250.00\t250.00\n",
        "47\t$5,000.00\t5000.00"
       ]
      },
      {
       "output_type": "stream",
       "stream": "stdout",
       "text": [
        "\n",
        "48\t$2,500.00\t2500.00\n",
        "49\t$1,000.00\t1000.00"
       ]
      },
      {
       "output_type": "stream",
       "stream": "stdout",
       "text": [
        "\n",
        "50\t$1,000.00\t1000.00\n",
        "51\t$1,000.00\t1000.00"
       ]
      },
      {
       "output_type": "stream",
       "stream": "stdout",
       "text": [
        "\n",
        "52\t$1,000.00\t1000.00\n",
        "53\t$1,000.00\t1000.00"
       ]
      },
      {
       "output_type": "stream",
       "stream": "stdout",
       "text": [
        "\n",
        "54\t$250.00\t250.00\n",
        "55\t$250.00\t250.00"
       ]
      },
      {
       "output_type": "stream",
       "stream": "stdout",
       "text": [
        "\n",
        "56\t$500.00\t500.00"
       ]
      },
      {
       "output_type": "stream",
       "stream": "stdout",
       "text": [
        "\n",
        "57\t$100.00\t100.00\n",
        "58\t$1,000.00\t1000.00"
       ]
      },
      {
       "output_type": "stream",
       "stream": "stdout",
       "text": [
        "\n",
        "59\t$1,000.00\t1000.00\n",
        "60\t$1,000.00\t1000.00"
       ]
      },
      {
       "output_type": "stream",
       "stream": "stdout",
       "text": [
        "\n",
        "61\t$2,500.00\t2500.00"
       ]
      },
      {
       "output_type": "stream",
       "stream": "stdout",
       "text": [
        "\n",
        "62\t$1,250.00\t1250.00\n",
        "63\t$1,500.00\t1500.00"
       ]
      },
      {
       "output_type": "stream",
       "stream": "stdout",
       "text": [
        "\n",
        "64\t$1,000.00\t1000.00\n",
        "65\t$2,500.00\t2500.00"
       ]
      },
      {
       "output_type": "stream",
       "stream": "stdout",
       "text": [
        "\n",
        "66\t$5,000.00\t5000.00\n",
        "67\t$100.00\t100.00"
       ]
      },
      {
       "output_type": "stream",
       "stream": "stdout",
       "text": [
        "\n",
        "68\t$100.00\t100.00\n",
        "69\t$100.00\t100.00"
       ]
      },
      {
       "output_type": "stream",
       "stream": "stdout",
       "text": [
        "\n",
        "70\t$250.00\t250.00\n",
        "71\t$500.00\t500.00"
       ]
      },
      {
       "output_type": "stream",
       "stream": "stdout",
       "text": [
        "\n",
        "72\t$250.00\t250.00\n",
        "73\t$250.00\t250.00"
       ]
      },
      {
       "output_type": "stream",
       "stream": "stdout",
       "text": [
        "\n",
        "74\t$500.00\t500.00\n",
        "75\t$1,000.00\t1000.00"
       ]
      },
      {
       "output_type": "stream",
       "stream": "stdout",
       "text": [
        "\n",
        "76\t$10,000.00\t10000.00\n",
        "77\t$5,000.00\t5000.00"
       ]
      },
      {
       "output_type": "stream",
       "stream": "stdout",
       "text": [
        "\n",
        "78\t$500.00\t500.00\n",
        "79\t$500.00\t500.00"
       ]
      },
      {
       "output_type": "stream",
       "stream": "stdout",
       "text": [
        "\n",
        "80\t$250.00\t250.00"
       ]
      },
      {
       "output_type": "stream",
       "stream": "stdout",
       "text": [
        "\n",
        "81\t$100.00\t100.00"
       ]
      },
      {
       "output_type": "stream",
       "stream": "stdout",
       "text": [
        "\n",
        "82\t$100.00\t100.00\n",
        "83\t$2,500.00\t2500.00"
       ]
      },
      {
       "output_type": "stream",
       "stream": "stdout",
       "text": [
        "\n",
        "84\t$10,000.00\t10000.00\n",
        "85\t$250.00\t250.00"
       ]
      },
      {
       "output_type": "stream",
       "stream": "stdout",
       "text": [
        "\n",
        "86\t$2,500.00\t2500.00\n",
        "87\t$3,000.00\t3000.00"
       ]
      },
      {
       "output_type": "stream",
       "stream": "stdout",
       "text": [
        "\n",
        "88\t$5,000.00\t5000.00\n",
        "89\t$8,000,000.00\t8000000.00"
       ]
      },
      {
       "output_type": "stream",
       "stream": "stdout",
       "text": [
        "\n",
        "90\t$500.00\t500.00\n",
        "91\t$10,000.00\t10000.00"
       ]
      },
      {
       "output_type": "stream",
       "stream": "stdout",
       "text": [
        "\n",
        "92\t$5,000.00\t5000.00\n",
        "93\t$5,000.00\t5000.00"
       ]
      },
      {
       "output_type": "stream",
       "stream": "stdout",
       "text": [
        "\n",
        "94\t$1,000.00\t1000.00\n",
        "95\t$500.00\t500.00"
       ]
      },
      {
       "output_type": "stream",
       "stream": "stdout",
       "text": [
        "\n",
        "96\t$2,500.00\t2500.00\n",
        "97\t$2,000.00\t2000.00"
       ]
      },
      {
       "output_type": "stream",
       "stream": "stdout",
       "text": [
        "\n",
        "98\t$2,500.00\t2500.00\n",
        "99\t$2,000.00\t2000.00"
       ]
      },
      {
       "output_type": "stream",
       "stream": "stdout",
       "text": [
        "\n",
        "100\t$1,000.00\t1000.00\n",
        "101\t$2,500.00\t2500.00"
       ]
      },
      {
       "output_type": "stream",
       "stream": "stdout",
       "text": [
        "\n",
        "102\t$500,000.00\t500000.00\n"
       ]
      },
      {
       "output_type": "stream",
       "stream": "stdout",
       "text": [
        "103\t$2,500.00\t2500.00\n",
        "104\t$46,642.98\t46642.98"
       ]
      },
      {
       "output_type": "stream",
       "stream": "stdout",
       "text": [
        "\n",
        "105\t$8,000,000.00\t8000000.00\n",
        "106\t$0.00\t0.00"
       ]
      },
      {
       "output_type": "stream",
       "stream": "stdout",
       "text": [
        "\n",
        "107\t$0.00\t0.00\n"
       ]
      }
     ],
     "prompt_number": 20
    },
    {
     "cell_type": "markdown",
     "metadata": {},
     "source": [
      "Cool, that worked. How much are we talking?"
     ]
    },
    {
     "cell_type": "code",
     "collapsed": false,
     "input": [
      "sql_command = '''\n",
      "    SELECT SUM(amount), SUM(fltAmount) FROM `%s_raw_contribs`\n",
      "''' % date_stamp\n",
      "execute_query = c.execute(sql_command)\n",
      "row_list = execute_query.fetchall()\n",
      "print row_list\n",
      "print row_list[0]\n",
      "print row_list[0][0]\n",
      "print row_list[0][1]"
     ],
     "language": "python",
     "metadata": {},
     "outputs": [
      {
       "output_type": "stream",
       "stream": "stdout",
       "text": [
        "[(0.0, 24957949.45)]\n",
        "(0.0, 24957949.45)\n",
        "0.0\n",
        "24957949.45\n"
       ]
      }
     ],
     "prompt_number": 28
    },
    {
     "cell_type": "markdown",
     "metadata": {},
     "source": [
      "Notice the text field \"amount\" sums to zero while the proper number field we created sums correctly. Data types matter.\n",
      "\n",
      "Now let's parse some names."
     ]
    },
    {
     "cell_type": "code",
     "collapsed": false,
     "input": [
      "try:\n",
      "    new_field_list = ['title', 'fname', 'middle', 'lname', 'suffix', ]\n",
      "    for field in new_field_list:\n",
      "        sql_query = ''' ALTER TABLE `%s_raw_contribs` ADD %s TEXT  ''' % (date_stamp, field)\n",
      "        c.execute(sql_query)\n",
      "except:\n",
      "    print 'fields already exist'\n",
      "sql_select_command = ''' SELECT rowid, name_of_contributor FROM `%s_raw_contribs` WHERE employer <> '' AND occupation <> '' ''' % date_stamp # every sqlite table automatically has a unique row id you can use\n",
      "execute_query = c.execute(sql_select_command)\n",
      "rows = execute_query.fetchall()\n",
      "for row in rows:\n",
      "    row_id = row[0]\n",
      "    name = row[1] # python lists start counting at 0 and the full name of the contributor is the second column in the sql select statement\n",
      "    parsed_name = HumanName(name)\n",
      "    sql_command = '''\n",
      "        UPDATE `%s_raw_contribs` SET title = '%s', fname = '%s', middle = '%s', lname = '%s', suffix = '%s' WHERE rowid = %s\n",
      "    ''' % (\n",
      "           date_stamp, \n",
      "           parsed_name.title,\n",
      "           parsed_name.first,\n",
      "           parsed_name.middle,\n",
      "           parsed_name.last,\n",
      "           parsed_name.suffix,\n",
      "           row_id,\n",
      "           )\n",
      "    c.execute(sql_command)"
     ],
     "language": "python",
     "metadata": {},
     "outputs": [],
     "prompt_number": 21
    },
    {
     "cell_type": "markdown",
     "metadata": {},
     "source": [
      "Now that's done, let's see what we did."
     ]
    },
    {
     "cell_type": "code",
     "collapsed": false,
     "input": [
      "sql_command = \"SELECT rowid, name_of_contributor, title, fname, middle, lname, suffix FROM `%s_raw_contribs`;\" % (date_stamp)\n",
      "execute_query = c.execute(sql_command)\n",
      "row_list = execute_query.fetchall()\n",
      "for row in row_list:\n",
      "    print '%s\\t%s\\t%s\\t%s\\t%s\\t%s' % (row[0], row[1], row[2], row[3], row[4], row[5])row_list"
     ],
     "language": "python",
     "metadata": {},
     "outputs": [
      {
       "output_type": "stream",
       "stream": "stdout",
       "text": [
        "1\tMR. GEORGE JOSEPH\tMR.\tGEORGE\t\tJOSEPH\n",
        "2\tMR. GEORGE JOSEPH\tMR.\tGEORGE\t\tJOSEPH\n",
        "3\tAMERICAN AGENTS ALLIANCE\tNone\tNone\tNone\tNone\n",
        "4\tMARGARET WAHLRAB\t\tMARGARET\t\tWAHLRAB\n",
        "5\tLUDWIG & FAWCETT  INC.\tNone\tNone\tNone\tNone\n",
        "6\tALICE SHAMOON\t\tALICE\t\tSHAMOON\n",
        "7\tJERRY CONREY\t\tJERRY\t\tCONREY\n",
        "8\tDEBRA JACKSON\t\tDEBRA\t\tJACKSON\n",
        "9\tROGER STONE INSURANCE AGENCY\tNone\tNone\tNone\tNone\n",
        "10\tWENDY DAMBERGER\t\tWENDY\t\tDAMBERGER\n",
        "11\tCLIFFORD COTTAM JR\t\tCLIFFORD\t\tCOTTAM\n",
        "12\tCHARLES GARRISON\t\tCHARLES\t\tGARRISON\n",
        "13\tPATRIOT FINANCIAL SERVICES INC.\tNone\tNone\tNone\tNone\n",
        "14\tCALGARD ASSOCIATES\tNone\tNone\tNone\tNone\n",
        "15\tCRESCENTA VALLEY INSURANCE  INC.\tNone\tNone\tNone\tNone\n",
        "16\tJOHN E. PEAKES INSURANCE AGENCY  INC.\tNone\tNone\tNone\tNone\n",
        "17\tMASCOT INSURANCE SERVICES LLC\tNone\tNone\tNone\tNone\n",
        "18\tGIACOPUZZI AND CO INC INSURANCE BROKERS\tNone\tNone\tNone\tNone\n",
        "19\tDENISE WEAVER\t\tDENISE\t\tWEAVER\n",
        "20\tALICE SHAMOON\t\tALICE\t\tSHAMOON\n",
        "21\tJERRY CONREY\t\tJERRY\t\tCONREY\n",
        "22\tDEBRA JACKSON\t\tDEBRA\t\tJACKSON\n",
        "23\tGASPAR INSURANCE SERVICES  INC.\tNone\tNone\tNone\tNone\n",
        "24\tSHEPARD INSURANCE AGENCY\tNone\tNone\tNone\tNone\n",
        "25\tLUCY FLOR\t\tLUCY\t\tFLOR\n",
        "26\tLUCY FLOR\t\tLUCY\t\tFLOR\n",
        "27\tALICE SHAMOON\t\tALICE\t\tSHAMOON\n",
        "28\tJERRY CONREY\t\tJERRY\t\tCONREY\n",
        "29\tDEBRA JACKSON\t\tDEBRA\t\tJACKSON\n",
        "30\tCARLOS CISNEROS\t\tCARLOS\t\tCISNEROS\n",
        "31\tALEXANDER EDDY\t\tALEXANDER\t\tEDDY\n",
        "32\tABERNATHY INSURANCE AGENCY  INC.\tNone\tNone\tNone\tNone\n",
        "33\tALICE SHAMOON\t\tALICE\t\tSHAMOON\n",
        "34\tJERRY CONREY\t\tJERRY\t\tCONREY\n",
        "35\tDEBRA JACKSON\t\tDEBRA\t\tJACKSON\n",
        "36\tJERRY CONREY\t\tJERRY\t\tCONREY\n",
        "37\tJERRY CONREY\t\tJERRY\t\tCONREY\n",
        "38\tDEBRA JACKSON\t\tDEBRA\t\tJACKSON\n",
        "39\tJERRY CONREY\t\tJERRY\t\tCONREY\n",
        "40\tJOHN E. PEAKES INSURANCE AGENCY  INC.\tNone\tNone\tNone\tNone\n",
        "41\tJERRY CONREY\t\tJERRY\t\tCONREY\n",
        "42\tDEBRA JACKSON\t\tDEBRA\t\tJACKSON\n",
        "43\tCORBETT & ASSOC. INSURANCE AGENCY\tNone\tNone\tNone\tNone\n",
        "44\tBRIAN MCELHOES\t\tBRIAN\t\tMCELHOES\n",
        "45\tTHOMAS FORGUE\t\tTHOMAS\t\tFORGUE\n",
        "46\tMICHAEL LESTER\t\tMICHAEL\t\tLESTER\n",
        "47\tCOLLEGE STUDENT INSURANCE SERVICE  INC.\tNone\tNone\tNone\tNone\n",
        "48\tALANDALE INSURANCE AGENCY\tNone\tNone\tNone\tNone\n",
        "49\tDANMAR INSURANCE SERVICES  INC.\tNone\tNone\tNone\tNone\n",
        "50\tFOX INSURANCE AGENCY  INC.\tNone\tNone\tNone\tNone\n",
        "51\tWESCOM INSURANCE SERVICES  LLC\tNone\tNone\tNone\tNone\n",
        "52\tPHD INSURANCE BROKERS  INC.\tNone\tNone\tNone\tNone\n",
        "53\tWESTWAYS INSURANCE AGENCY  INC.\tNone\tNone\tNone\tNone\n",
        "54\tTNT ENTERPRISES  INC. DBA DYNAMITE INSURANCE BROKERAGE\tNone\tNone\tNone\tNone\n",
        "55\tFIRST WEST INSURANCE AGENCY  LLC\tNone\tNone\tNone\tNone\n",
        "56\tVAL LESTER\t\tVAL\t\tLESTER\n",
        "57\tMARTIN FELIX\t\tMARTIN\t\tFELIX\n",
        "58\tTIMOTHY GASPAR\t\tTIMOTHY\t\tGASPAR\n",
        "59\tLORI GASSER\t\tLORI\t\tGASSER\n",
        "60\tMICHAEL RANDLES\t\tMICHAEL\t\tRANDLES\n",
        "61\tTHOMAS FRAME\t\tTHOMAS\t\tFRAME\n",
        "62\tCORBETT & ASSOC. INSURANCE AGENCY\tNone\tNone\tNone\tNone\n",
        "63\tMASCOT INSURANCE SERVICES LLC\tNone\tNone\tNone\tNone\n",
        "64\tANDREW VALDIVIA\t\tANDREW\t\tVALDIVIA\n",
        "65\tJOHN E. PEAKES INSURANCE AGENCY  INC.\tNone\tNone\tNone\tNone\n",
        "66\tPARKVILLE INSURANCE SERVICES  INC.\tNone\tNone\tNone\tNone\n",
        "67\tAIA INSURANCE AGENTS  INC.\tNone\tNone\tNone\tNone\n",
        "68\tMCCLUNG INSURANCE AGENCY  INC.\tNone\tNone\tNone\tNone\n",
        "69\tBRANDT INSURANCE AGENCY\tNone\tNone\tNone\tNone\n",
        "70\tHAYES  LEVY & CO. INC.\tNone\tNone\tNone\tNone\n",
        "71\tMORRIS INSURANCE AGENCY\tNone\tNone\tNone\tNone\n",
        "72\tDEATSCH INSURANCE AGENCY  INC.\tNone\tNone\tNone\tNone\n",
        "73\tSTAN BURNS INSURANCE SERVICES  INC\tNone\tNone\tNone\tNone\n",
        "74\tERIC BOSSUK\t\tERIC\t\tBOSSUK\n",
        "75\tJOHN E. PEAKES INSURANCE AGENCY  INC.\tNone\tNone\tNone\tNone\n",
        "76\tRANCHO SIMI INSURANCE AGENCY\tNone\tNone\tNone\tNone\n",
        "77\tARMOR INSURANCE SERVICES  INC.\tNone\tNone\tNone\tNone\n",
        "78\tJASON MAYLING\t\tJASON\t\tMAYLING\n",
        "79\tPYLE INSURANCE AGENCY\tNone\tNone\tNone\tNone\n",
        "80\tDAVIS & MADDEN INSURANCE AGENCY INC.\tNone\tNone\tNone\tNone\n",
        "81\tERHARDT INSURANCE SERVICE\tNone\tNone\tNone\tNone\n",
        "82\tRECCHIA INSURANCE AGENCY INC.\tNone\tNone\tNone\tNone\n",
        "83\tSTEPCO INSURANCE AGENCY  INC.\tNone\tNone\tNone\tNone\n",
        "84\tERIC WALLER\t\tERIC\t\tWALLER\n",
        "85\tFOLSOM INSURANCE CENTER  INC.\tNone\tNone\tNone\tNone\n",
        "86\tJB WRIGHT INSURANCE SERVICES  INC.\tNone\tNone\tNone\tNone\n",
        "87\tJOHN E. PEAKES INSURANCE AGENCY  INC.\tNone\tNone\tNone\tNone\n",
        "88\tSTAN BURNS INSURANCE SERVICES  INC.\tNone\tNone\tNone\tNone\n",
        "89\tMR. GEORGE JOSEPH\tMR.\tGEORGE\t\tJOSEPH\n",
        "90\tKESSLER ALAIR INSURANCE SERVICES  INC.\tNone\tNone\tNone\tNone\n",
        "91\tCOLLEGE STUDENT INSURANCE SERVICE  INC.\tNone\tNone\tNone\tNone\n",
        "92\tBILL PANZERA\t\tBILL\t\tPANZERA\n",
        "93\tTHE SUMMER GROUP\tNone\tNone\tNone\tNone\n",
        "94\tCORBETT & ASSOC. INSURANCE AGENCY\tNone\tNone\tNone\tNone\n",
        "95\tSTEVE BROOKS\t\tSTEVE\t\tBROOKS\n",
        "96\tMAUS INSURANCE AGENCY  INC.\tNone\tNone\tNone\tNone\n",
        "97\tTIM CHURTON\t\tTIM\t\tCHURTON\n",
        "98\tPARTNER AGENCY INSURANCE SERVICES  INC.\tNone\tNone\tNone\tNone\n",
        "99\tALLCO FULLERTON INSURANCE AGENCY  INC.\tNone\tNone\tNone\tNone\n",
        "100\tERIC BOSSUK\t\tERIC\t\tBOSSUK\n",
        "101\tPAT POTTER\t\tPAT\t\tPOTTER\n",
        "102\tMR. GEORGE JOSEPH\tMR.\tGEORGE\t\tJOSEPH\n",
        "103\tRON YOUNG INSURANCE AGENCY\tNone\tNone\tNone\tNone\n",
        "104\tMARKETPLACE COMMUNICATIONS\tNone\tNone\tNone\tNone\n",
        "105\tMR. GEORGE JOSEPH\tMR.\tGEORGE\t\tJOSEPH\n",
        "106\tMR. GEORGE JOSEPH\tMR.\tGEORGE\t\tJOSEPH\n",
        "107\tMR. GEORGE JOSEPH\tMR.\tGEORGE\t\tJOSEPH\n"
       ]
      }
     ],
     "prompt_number": 24
    },
    {
     "cell_type": "code",
     "collapsed": false,
     "input": [],
     "language": "python",
     "metadata": {},
     "outputs": []
    }
   ],
   "metadata": {}
  }
 ]
}