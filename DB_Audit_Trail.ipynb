{
 "metadata": {
  "name": "",
  "signature": "sha256:3b912b76fcbde6358b3ba4d33191baeb9ed6b6b92d5854bdaf94edab938428bb"
 },
 "nbformat": 3,
 "nbformat_minor": 0,
 "worksheets": [
  {
   "cells": [
    {
     "cell_type": "heading",
     "level": 1,
     "metadata": {},
     "source": [
      "Everyday Scripting"
     ]
    },
    {
     "cell_type": "markdown",
     "metadata": {},
     "source": [
      "Utilizing the Ipython Notebook we can have all our code, write-up and charts in one place.\n",
      "\n",
      "The block of code below:\n",
      "\n",
      "1. Imports the code libraries we need for this exercise\n",
      "2. Connects to a sqlite database called contribs.sqlite\n",
      "3. Constructs today's date into a format like '20131216' we can use to make a date-stamped folder"
     ]
    },
    {
     "cell_type": "code",
     "collapsed": false,
     "input": [
      "import urllib\n",
      "import sqlite3\n",
      "import os\n",
      "import csv\n",
      "from datetime import datetime\n",
      "from nameparser import HumanName # nameparser module available here -- http://code.google.com/p/python-nameparser/\n",
      "\n",
      "\n",
      "## connect to an SQLite3 database\n",
      "conn = sqlite3.connect('contribs.sqlite', isolation_level=None) # creates the db file if it doesn't already exist. we set isolation_level to None so that we are in autocommit mode. that way the UPDATES are applied without further ado\n",
      "c = conn.cursor() # open the lines of communication with the database\n",
      "\n",
      "date_stamp = datetime.strftime(datetime.now(), '%Y%m%d')\n",
      "print 'connected to database and date stamp is %s' % date_stamp"
     ],
     "language": "python",
     "metadata": {},
     "outputs": [
      {
       "output_type": "stream",
       "stream": "stdout",
       "text": [
        "connected to database and date stamp is 20140623\n"
       ]
      }
     ],
     "prompt_number": 1
    },
    {
     "cell_type": "markdown",
     "metadata": {},
     "source": [
      "Let's say you wanted to download some campaign finance data and do some stuff with it.\n",
      "\n",
      "First, create a date-stamped folder to house the raw data."
     ]
    },
    {
     "cell_type": "code",
     "collapsed": false,
     "input": [
      "# set-up a date stamped folder to hold the data in\n",
      "if os.path.isdir(date_stamp): # test to see if the folder already exists. if it does, delete it and everything in it.\n",
      "    try:\n",
      "        cmd = 'rm -rf %s' % date_stamp # try deleteing the folder\n",
      "        os.system(cmd)\n",
      "    except:\n",
      "        cmd = 'rmdir %s' % date_stamp # if the above fails try the Windows command line way. If both fail, the script fails\n",
      "        os.system(cmd)\n",
      "\n",
      "print 'folder %s ready' % date_stamp\n",
      "os.mkdir(date_stamp) # creates a fresh folder"
     ],
     "language": "python",
     "metadata": {},
     "outputs": [
      {
       "output_type": "stream",
       "stream": "stdout",
       "text": [
        "folder 20140623 ready\n"
       ]
      }
     ],
     "prompt_number": 4
    },
    {
     "cell_type": "markdown",
     "metadata": {},
     "source": [
      "Construct the path to where you want to save the contribution data we pull down."
     ]
    },
    {
     "cell_type": "code",
     "collapsed": false,
     "input": [
      "file_path = os.path.join(date_stamp, 'contribs.csv') # file_path is a variable that points to a file called contribs.csv inside our date stamped folder\n",
      "print file_path"
     ],
     "language": "python",
     "metadata": {},
     "outputs": [
      {
       "output_type": "stream",
       "stream": "stdout",
       "text": [
        "20140623/contribs.csv\n"
       ]
      }
     ],
     "prompt_number": 5
    },
    {
     "cell_type": "markdown",
     "metadata": {},
     "source": [
      "Now let's fetch the contributions from the CAL-ACCESS server."
     ]
    },
    {
     "cell_type": "code",
     "collapsed": false,
     "input": [
      "url = 'http://cal-access.sos.ca.gov/Campaign/Committees/DetailContributionsReceivedExcel.aspx?id=1340976&session=2011'\n",
      "try:\n",
      "    urllib.urlretrieve(url, file_path)\n",
      "    print 'fetched data, see %s' % file_path\n",
      "except:\n",
      "    print 'failed to fetch data'"
     ],
     "language": "python",
     "metadata": {},
     "outputs": [
      {
       "output_type": "stream",
       "stream": "stdout",
       "text": [
        "fetched data, see 20140623/contribs.csv\n"
       ]
      }
     ],
     "prompt_number": 6
    },
    {
     "cell_type": "markdown",
     "metadata": {},
     "source": [
      "Now that we have some data pulled down, let's open it up and grab the header row. We can use the headers to write an sql statement to create a contribs table in sqlite."
     ]
    },
    {
     "cell_type": "code",
     "collapsed": false,
     "input": [
      "infile = open(file_path) # open the csv file\n",
      "handle = csv.reader(infile, delimiter='\\t') # use the csv module to parse the csv and tell it that the field delimiter is a tab. \"\\t\" = tab  \n",
      "headers = handle.next() # grab the header row\n",
      "infile.close() # close the csv file now that we're done\n",
      "print headers # here's the header line of the csv"
     ],
     "language": "python",
     "metadata": {},
     "outputs": [
      {
       "output_type": "stream",
       "stream": "stdout",
       "text": [
        "['NAME OF CONTRIBUTOR', 'PAYMENT TYPE', 'CITY', 'STATE', 'ZIP', 'ID NUMBER', 'EMPLOYER', 'OCCUPATION', 'AMOUNT', 'TRANSACTION DATE', 'FILED DATE', 'TRANSACTION NUMBER']\n"
       ]
      }
     ],
     "prompt_number": 7
    },
    {
     "cell_type": "markdown",
     "metadata": {},
     "source": [
      "Above you can see the names of all the columns in the contribs data we fetched. Let's check the databse to see if we already have a contribs table. If there is a contribs table, let's nuke it and use the fresh cut of data we just obtained."
     ]
    },
    {
     "cell_type": "code",
     "collapsed": false,
     "input": [
      "sql_statement = '''\n",
      "    SELECT name FROM sqlite_master WHERE type='table' AND name=\"%s_raw_contribs\"\n",
      "''' % date_stamp # sql to run\n",
      "cmd = c.execute(sql_statement) # run the sql\n",
      "results = cmd.fetchall() # fetch the data pulled out with the query\n",
      "if len(results) == 1: # if there is one row returned by the query, then the table exists\n",
      "    print 'table already exists, nuking it' # print out what you are about to do\n",
      "    sql_statement = \"DROP TABLE `%s_raw_contribs`\" % date_stamp # create the sql to nuke the table\n",
      "    cmd = c.execute(sql_statement) # run the sql and nuke the table\n",
      "else:\n",
      "    print \"table doesn't currently exist in this db\""
     ],
     "language": "python",
     "metadata": {},
     "outputs": [
      {
       "output_type": "stream",
       "stream": "stdout",
       "text": [
        "table doesn't currently exist in this db\n"
       ]
      }
     ],
     "prompt_number": 8
    },
    {
     "cell_type": "markdown",
     "metadata": {},
     "source": [
      "Now that we've cleaned out any old version of the table we may have already created today let's create the new, empty table."
     ]
    },
    {
     "cell_type": "code",
     "collapsed": true,
     "input": [
      "    ## create a table using the headers of the csv file\n",
      "    sql_statement = \"CREATE TABLE `%s_raw_contribs` (\" % date_stamp\n",
      "    \n",
      "    ## loop through the headers and use them to craft the rest of the sql statement\n",
      "    for i in range(len(headers)):\n",
      "        sql_friendly_header = headers[i].lower().replace(' ', '_') # index into the headers list, get rid of the spaces and change it from upper to lower case\n",
      "        if i == len(headers)-1:\n",
      "            creation_statement_piece = '%s TEXT' % sql_friendly_header # test to see if you are at the last element in the list. if you are, then you need to leave the comma out\n",
      "        else:\n",
      "            creation_statement_piece = '%s TEXT,' % sql_friendly_header\n",
      "        sql_statement += creation_statement_piece\n",
      "    sql_statement += ');' # put the finishing touch on the sql statement\n",
      "    c.execute(sql_statement) # use the sql statement we just wrote to create the table\n",
      "    print sql_statement # here's the sql we just wrote"
     ],
     "language": "python",
     "metadata": {},
     "outputs": [
      {
       "output_type": "stream",
       "stream": "stdout",
       "text": [
        "CREATE TABLE `20140623_raw_contribs` (name_of_contributor TEXT,payment_type TEXT,city TEXT,state TEXT,zip TEXT,id_number TEXT,employer TEXT,occupation TEXT,amount TEXT,transaction_date TEXT,filed_date TEXT,transaction_number TEXT);\n"
       ]
      }
     ],
     "prompt_number": 9
    },
    {
     "cell_type": "code",
     "collapsed": false,
     "input": [
      "sql_statement = '''\n",
      "    SELECT * \n",
      "    FROM sqlite_master \n",
      "    WHERE type='table' AND name='%s_raw_contribs'\n",
      "''' % date_stamp\n",
      "cmd = c.execute(sql_statement)\n",
      "'''\n",
      "When you exectue a query and fetch all the results\n",
      "you get back a list of rows returned by the sql query\n",
      "In this case, we queried the sqlite_master table list\n",
      "'''\n",
      "results = c.fetchall() # the results variable contains every row returned by the SELECT statement\n",
      "first_row = results[0] # [0] assigns the first row of results to a variable called first_row\n",
      "print '%s\\t%s' % (first_row[0], first_row[1]) # first_row[0] = first column of first row"
     ],
     "language": "python",
     "metadata": {},
     "outputs": [
      {
       "output_type": "stream",
       "stream": "stdout",
       "text": [
        "table\t20140228_raw_contribs\n"
       ]
      }
     ],
     "prompt_number": 25
    },
    {
     "cell_type": "markdown",
     "metadata": {},
     "source": [
      "There's our table. Now let's open the file back up, loop through each line, construct an sql insert statement and execute it."
     ]
    },
    {
     "cell_type": "code",
     "collapsed": true,
     "input": [
      "infile = open(file_path) # open the csv file again. we already set file_path up top\n",
      "csv_reader = csv.reader(infile, delimiter='\\t') # use the csv module to parse the csv\n",
      "headers = csv_reader.next() # grab the header row\n",
      "for line in csv_reader: # loop through the data and insert it into the table\n",
      "    if len(line) == 12: # we know this is how many columns we have. \n",
      "        sql_statement = '''\n",
      "            INSERT INTO `%s_raw_contribs` VALUES( \"%s\", \"%s\", \"%s\", \"%s\", \"%s\", \"%s\", \"%s\", \"%s\", \"%s\", \"%s\", \"%s\", \"%s\" );\n",
      "        ''' % (date_stamp, line[0], line[1], line[2], line[3], line[4], line[5], line[6], line[7], line[8], line[9], line[10], line[11])\n",
      "        c.execute(sql_statement)\n",
      "    else:\n",
      "        print 'skipped row with %s columns' % len(line) # don't insert a line that doesn't have all the columns  \n",
      "infile.close() # close the csv file now that we're done\n",
      "print 'loaded up %s lines from the csv file' % csv_reader.line_num"
     ],
     "language": "python",
     "metadata": {},
     "outputs": [
      {
       "output_type": "stream",
       "stream": "stdout",
       "text": [
        "skipped row with 0 columns\n",
        "loaded up 108 lines from the csv file\n"
       ]
      }
     ],
     "prompt_number": 10
    },
    {
     "cell_type": "markdown",
     "metadata": {},
     "source": [
      "Data is in, so let's check it out."
     ]
    },
    {
     "cell_type": "code",
     "collapsed": false,
     "input": [
      "sql_query = 'SELECT COUNT(*) FROM `%s_raw_contribs`' % date_stamp\n",
      "execute_query = c.execute(sql_query)\n",
      "results = execute_query.fetchall()\n",
      "first_row_returned_by_query = results[0]\n",
      "first_column_of_first_row = first_row_returned_by_query[0]\n",
      "print '%s rows imported' % first_column_of_first_row # the query only returns one row & one column. here it is"
     ],
     "language": "python",
     "metadata": {},
     "outputs": [
      {
       "output_type": "stream",
       "stream": "stdout",
       "text": [
        "106 rows imported\n"
       ]
      }
     ],
     "prompt_number": 11
    },
    {
     "cell_type": "markdown",
     "metadata": {},
     "source": [
      "What's the data look like?"
     ]
    },
    {
     "cell_type": "code",
     "collapsed": false,
     "input": [
      "sql_query = ''' \n",
      "        SELECT name_of_contributor, employer, amount \n",
      "        FROM `%s_raw_contribs` \n",
      "        LIMIT 3 \n",
      "    ''' % date_stamp\n",
      "execute_query = c.execute(sql_query)\n",
      "results = execute_query.fetchall()\n",
      "print 'name_of_contributor\\temployer\\tamount'\n",
      "for row in results:\n",
      "    print '%s\\t%s\\t%s' % (row[0], row[1], row[2])"
     ],
     "language": "python",
     "metadata": {},
     "outputs": [
      {
       "output_type": "stream",
       "stream": "stdout",
       "text": [
        "name_of_contributor\temployer\tamount\n",
        "MR. GEORGE JOSEPH\tMERCURY GENERAL CORPORATION\t$8,077,126.97\n",
        "MR. GEORGE JOSEPH\tMERCURY GENERAL CORPORATION\t$150,000.00\n",
        "AMERICAN AGENTS ALLIANCE\t\t$0.00\n"
       ]
      }
     ],
     "prompt_number": 12
    },
    {
     "cell_type": "markdown",
     "metadata": {},
     "source": [
      "The raw data was all imported as text data to make sure nothing was mangled on the way in. Now let's make a proper amount field that we can sum up."
     ]
    },
    {
     "cell_type": "code",
     "collapsed": false,
     "input": [
      "sql_query = ''' \n",
      "        ALTER TABLE `%s_raw_contribs` \n",
      "        ADD COLUMN fltAmount DECIMAL(16,2)\n",
      "        ''' % date_stamp # create a new column to house the numeric data. right now it saved as a string value\n",
      "c.execute(sql_query)\n",
      "sql_query = 'SELECT rowid, amount, fltAmount from `%s_raw_contribs` LIMIT 3' % date_stamp # grab the rows, \n",
      "execute_query = c.execute(sql_query)\n",
      "results = execute_query.fetchall()\n",
      "for row in results:\n",
      "    new_amount = row[1].replace('$', '').replace(',', '')\n",
      "    print '%s\\t%s\\t%s' % (row[0], row[1], new_amount) # i printed out the amounts while i was writing the script. no need for it now\n",
      "    sql_query = 'UPDATE `%s_raw_contribs` SET fltAmount = %s WHERE rowid= %s' % (date_stamp, new_amount, row[0])\n",
      "    c.execute(sql_query)"
     ],
     "language": "python",
     "metadata": {},
     "outputs": [
      {
       "output_type": "stream",
       "stream": "stdout",
       "text": [
        "1\t$8,077,126.97\t8077126.97\n",
        "2\t$150,000.00\t150000.00"
       ]
      },
      {
       "output_type": "stream",
       "stream": "stdout",
       "text": [
        "\n",
        "3\t$0.00\t0.00\n"
       ]
      }
     ],
     "prompt_number": 14
    },
    {
     "cell_type": "markdown",
     "metadata": {},
     "source": [
      "Cool, that worked. How much are we talking?"
     ]
    },
    {
     "cell_type": "code",
     "collapsed": false,
     "input": [
      "sql_command = '''\n",
      "    SELECT SUM(amount), SUM(fltAmount) FROM `%s_raw_contribs`\n",
      "''' % date_stamp\n",
      "execute_query = c.execute(sql_command)\n",
      "results = execute_query.fetchall()\n",
      "first_row_of_results = results[0]\n",
      "sum_amount = first_row_of_results[0]\n",
      "sum_fltamount = first_row_of_results[1]\n",
      "print 'sum_text_field\\tsum_decimal_field'\n",
      "print '%s\\t\\t%s' % (sum_amount, sum_fltamount)"
     ],
     "language": "python",
     "metadata": {},
     "outputs": [
      {
       "output_type": "stream",
       "stream": "stdout",
       "text": [
        "sum_text_field\tsum_decimal_field\n",
        "0.0\t\t8227126.97\n"
       ]
      }
     ],
     "prompt_number": 15
    },
    {
     "cell_type": "markdown",
     "metadata": {},
     "source": [
      "Notice the text field \"amount\" sums to zero while the proper number field we created sums correctly. Data types matter.\n",
      "\n",
      "Now let's parse some names.\n",
      "\n",
      "First, we are going to add some fields to our table.\n",
      "Then we are going to use the HumanName python library to parse the names.\n",
      "Once parsed, we'll construct an update query to apply the parsed names to our db."
     ]
    },
    {
     "cell_type": "code",
     "collapsed": false,
     "input": [
      "try:\n",
      "    new_field_list = ['title', 'fname', 'middle', 'lname', 'suffix', ]\n",
      "    for field in new_field_list:\n",
      "        sql_query = ''' ALTER TABLE `%s_raw_contribs` ADD %s TEXT  ''' % (date_stamp, field)\n",
      "        c.execute(sql_query)\n",
      "        print 'added %s to table' % field\n",
      "except:\n",
      "    print 'fields already exist'\n",
      "sql_select_command = ''' SELECT rowid, name_of_contributor FROM `%s_raw_contribs` WHERE employer <> '' AND occupation <> '' ''' % date_stamp # every sqlite table automatically has a unique row id you can use\n",
      "execute_query = c.execute(sql_select_command)\n",
      "rows = execute_query.fetchall()\n",
      "for row in rows:\n",
      "    row_id = row[0]\n",
      "    name = row[1] # python lists start counting at 0 and the full name of the contributor is the second column in the sql select statement\n",
      "    parsed_name = HumanName(name)\n",
      "    sql_command = '''\n",
      "        UPDATE `%s_raw_contribs` SET title = '%s', fname = '%s', middle = '%s', lname = '%s', suffix = '%s' WHERE rowid = %s\n",
      "    ''' % (\n",
      "           date_stamp, \n",
      "           parsed_name.title,\n",
      "           parsed_name.first,\n",
      "           parsed_name.middle,\n",
      "           parsed_name.last,\n",
      "           parsed_name.suffix,\n",
      "           row_id,\n",
      "           )\n",
      "    c.execute(sql_command)"
     ],
     "language": "python",
     "metadata": {},
     "outputs": [
      {
       "output_type": "stream",
       "stream": "stdout",
       "text": [
        "added title to table\n",
        "added fname to table\n",
        "added middle to table"
       ]
      },
      {
       "output_type": "stream",
       "stream": "stdout",
       "text": [
        "\n",
        "added lname to table\n",
        "added suffix to table"
       ]
      },
      {
       "output_type": "stream",
       "stream": "stdout",
       "text": [
        "\n"
       ]
      }
     ],
     "prompt_number": 16
    },
    {
     "cell_type": "markdown",
     "metadata": {},
     "source": [
      "Now that's done, let's see what we did."
     ]
    },
    {
     "cell_type": "code",
     "collapsed": false,
     "input": [
      "sql_command = '''\n",
      "    SELECT name_of_contributor, fname, lname \n",
      "    FROM `%s_raw_contribs`\n",
      "    LIMIT 3;\n",
      "    '''% (date_stamp)\n",
      "execute_query = c.execute(sql_command)\n",
      "row_list = execute_query.fetchall()\n",
      "print 'name_of_contributor\\t\\tfname\\tlname'\n",
      "for row in row_list:\n",
      "    print '%s\\t\\t%s\\t%s' % (row[0], row[1], row[2],)"
     ],
     "language": "python",
     "metadata": {},
     "outputs": [
      {
       "output_type": "stream",
       "stream": "stdout",
       "text": [
        "name_of_contributor\t\tfname\tlname\n",
        "MR. GEORGE JOSEPH\t\tGEORGE\tJOSEPH\n",
        "MR. GEORGE JOSEPH\t\tGEORGE\tJOSEPH\n",
        "AMERICAN AGENTS ALLIANCE\t\tNone\tNone\n"
       ]
      }
     ],
     "prompt_number": 17
    },
    {
     "cell_type": "code",
     "collapsed": false,
     "input": [],
     "language": "python",
     "metadata": {},
     "outputs": [],
     "prompt_number": 32
    }
   ],
   "metadata": {}
  }
 ]
}