{
 "metadata": {
  "name": ""
 },
 "nbformat": 3,
 "nbformat_minor": 0,
 "worksheets": [
  {
   "cells": [
    {
     "cell_type": "heading",
     "level": 1,
     "metadata": {},
     "source": [
      "Everyday Scripting"
     ]
    },
    {
     "cell_type": "markdown",
     "metadata": {},
     "source": [
      "Utilizing the Ipython Notebook we can have all our code, write-up and charts in one place.\n",
      "\n",
      "The block of code below:\n",
      "\n",
      "1. Imports the code libraries we need for this exercise\n",
      "2. Connects to a sqlite database called contribs.sqlite\n",
      "3. Constructs today's date into a format like '20131216' we can use to make a date-stamped folder"
     ]
    },
    {
     "cell_type": "code",
     "collapsed": false,
     "input": [
      "import urllib\n",
      "import sqlite3\n",
      "import os\n",
      "import csv\n",
      "from datetime import datetime\n",
      "from nameparser import HumanName # nameparser module available here -- http://code.google.com/p/python-nameparser/\n",
      "\n",
      "\n",
      "## connect to an SQLite3 database\n",
      "conn = sqlite3.connect('contribs.sqlite', isolation_level=None) # creates the db file if it doesn't already exist. we set isolation_level to None so that we are in autocommit mode. that way the UPDATES are applied without further ado\n",
      "c = conn.cursor() # open the lines of communication with the database\n",
      "\n",
      "date_stamp = datetime.strftime(datetime.now(), '%Y%m%d')"
     ],
     "language": "python",
     "metadata": {},
     "outputs": []
    },
    {
     "cell_type": "markdown",
     "metadata": {},
     "source": [
      "Let's say you wanted to download some campaign finance data and do some stuff with it.\n",
      "\n",
      "First, create a date-stamped folder to house the raw data."
     ]
    },
    {
     "cell_type": "code",
     "collapsed": false,
     "input": [
      "# set-up a date stamped folder to hold the data in\n",
      "if os.path.isdir(date_stamp): # test to see if the folder already exists. if it does, delete it and everything in it.\n",
      "    try:\n",
      "        cmd = 'rm -rf %s' % date_stamp # try deleteing the folder\n",
      "        os.system(cmd)\n",
      "    except:\n",
      "        cmd = 'rmdir /S %s' % date_stamp # if the above fails try the Windows command line way. If both fail, the script fails\n",
      "        os.system(cmd)\n",
      "        \n",
      "os.mkdir(date_stamp) # creates a fresh folder"
     ],
     "language": "python",
     "metadata": {},
     "outputs": []
    },
    {
     "cell_type": "markdown",
     "metadata": {},
     "source": [
      "Construct the path to where you want to save the contribution data we pull down."
     ]
    },
    {
     "cell_type": "code",
     "collapsed": false,
     "input": [
      "file_path = os.path.join(date_stamp, 'contribs.csv') # file_path is a variable that points to a file called contribs.csv inside our date stamped folder"
     ],
     "language": "python",
     "metadata": {},
     "outputs": []
    },
    {
     "cell_type": "markdown",
     "metadata": {},
     "source": [
      "Now let's fetch the contributions from the CAL-ACCESS server."
     ]
    },
    {
     "cell_type": "code",
     "collapsed": false,
     "input": [
      "url = 'http://cal-access.sos.ca.gov/Campaign/Committees/DetailContributionsReceivedExcel.aspx?id=1340976&session=2011'\n",
      "try:\n",
      "    urllib.urlretrieve(url, file_path)\n",
      "    print 'fetched data, see %s' % file_path\n",
      "except:\n",
      "    print 'failed to fetch data'"
     ],
     "language": "python",
     "metadata": {},
     "outputs": []
    },
    {
     "cell_type": "markdown",
     "metadata": {},
     "source": [
      "Now that we have some data pulled down, let's open it up and grab the header row. We can use the headers to write an sql statement to create a contribs table in sqlite."
     ]
    },
    {
     "cell_type": "code",
     "collapsed": false,
     "input": [
      "infile = open(file_path) # open the csv file\n",
      "handle = csv.reader(infile, delimiter='\\t') # use the csv module to parse the csv and tell it that the field delimiter is a tab \"\\t\" = tab\n",
      "headers = handle.next() # grab the header row\n",
      "infile.close() # close the csv file now that we're done"
     ],
     "language": "python",
     "metadata": {},
     "outputs": []
    },
    {
     "cell_type": "code",
     "collapsed": true,
     "input": [
      "print headers"
     ],
     "language": "python",
     "metadata": {},
     "outputs": []
    },
    {
     "cell_type": "markdown",
     "metadata": {},
     "source": [
      "Above you can see the names of all the columns in the contribs data we fetched. Let's check the databse to see if we already have a contribs table. If there is a contribs table, let's nuke it and use the fresh cut of data we just obtained."
     ]
    },
    {
     "cell_type": "code",
     "collapsed": false,
     "input": [
      "sql_statement = '''\n",
      "    SELECT name FROM sqlite_master WHERE type='table' AND name=\"%s_raw_contribs\"\n",
      "''' % date_stamp # sql to run\n",
      "cmd = c.execute(sql_statement) # run the sql\n",
      "results = cmd.fetchall() # fetch the data pulled out with the query\n",
      "if len(results) == 1: # if there is one row returned by the query, then the table exists\n",
      "    print 'table already exists, nuking it' # print out what you are about to do\n",
      "    sql_statement = \"DROP TABLE `%s_raw_contribs`\" % date_stamp # create the sql to nuke the table\n",
      "    cmd = c.execute(sql_statement) # run the sql and nuke the table"
     ],
     "language": "python",
     "metadata": {},
     "outputs": []
    },
    {
     "cell_type": "markdown",
     "metadata": {},
     "source": [
      "Now that we've cleaned out any old version of the table we may have already created today let's create the new, empty table."
     ]
    },
    {
     "cell_type": "code",
     "collapsed": true,
     "input": [
      "    ## create a table using the headers of the csv file\n",
      "    sql_statement = \"CREATE TABLE `%s_raw_contribs` (\" % date_stamp\n",
      "    \n",
      "    ## loop through the headers and use them to craft the rest of the sql statement\n",
      "    for i in range(len(headers)):\n",
      "        sql_friendly_header = headers[i].lower().replace(' ', '_') # index into the headers list, get rid of the spaces and change it from upper to lower case\n",
      "        if i == len(headers)-1:\n",
      "            creation_statement_piece = '%s TEXT' % sql_friendly_header # test to see if you are at the last element in the list. if you are, then you need to leave the comma out\n",
      "        else:\n",
      "            creation_statement_piece = '%s TEXT,' % sql_friendly_header\n",
      "        sql_statement += creation_statement_piece\n",
      "    sql_statement += ');' # put the finishing touch on the sql statement\n",
      "    c.execute(sql_statement) # use the sql statement we just wrote to create the table"
     ],
     "language": "python",
     "metadata": {},
     "outputs": []
    },
    {
     "cell_type": "code",
     "collapsed": false,
     "input": [
      "sql_statement = 'SELECT * FROM sqlite_master'\n",
      "cmd = c.execute(sql_statement)\n",
      "results = c.fetchall()\n",
      "first_row = results[0]\n",
      "print '%s\\t%s' % (first_row[0], first_row[1])"
     ],
     "language": "python",
     "metadata": {},
     "outputs": []
    },
    {
     "cell_type": "markdown",
     "metadata": {},
     "source": [
      "Now let's open the file back up, loop through each line, construct an sql insert statement and execute it."
     ]
    },
    {
     "cell_type": "code",
     "collapsed": true,
     "input": [
      "file_path = os.path.join(date_stamp, 'contribs.csv')\n",
      "infile = open(file_path) # open the csv file\n",
      "csv_reader = csv.reader(infile, delimiter='\\t') # use the csv module to parse the csv\n",
      "headers = csv_reader.next() # grab the header row\n",
      "for line in csv_reader: # loop through the data and insert it into the table\n",
      "    if len(line) == 12:\n",
      "        sql_statement = '''\n",
      "            INSERT INTO `%s_raw_contribs` VALUES( \"%s\", \"%s\", \"%s\", \"%s\", \"%s\", \"%s\", \"%s\", \"%s\", \"%s\", \"%s\", \"%s\", \"%s\" );\n",
      "        ''' % (date_stamp, line[0], line[1], line[2], line[3], line[4], line[5], line[6], line[7], line[8], line[9], line[10], line[11])\n",
      "        c.execute(sql_statement)\n",
      "    else:\n",
      "        print 'skipped row with %s columns' % len(line)\n",
      "infile.close() # close the csv file now that we're done\n",
      "print 'loaded up %s rows' % csv_reader.line_num"
     ],
     "language": "python",
     "metadata": {},
     "outputs": []
    },
    {
     "cell_type": "markdown",
     "metadata": {},
     "source": [
      "Data is in, so let's check it out."
     ]
    },
    {
     "cell_type": "code",
     "collapsed": false,
     "input": [
      "sql_query = 'SELECT COUNT(*) FROM `%s_raw_contribs`' % date_stamp\n",
      "execute_query = c.execute(sql_query)\n",
      "results = execute_query.fetchall()\n",
      "print results"
     ],
     "language": "python",
     "metadata": {},
     "outputs": []
    },
    {
     "cell_type": "markdown",
     "metadata": {},
     "source": [
      "What's the data look like?"
     ]
    },
    {
     "cell_type": "code",
     "collapsed": false,
     "input": [
      "sql_query = 'SELECT name_of_contributor, employer, amount FROM `%s_raw_contribs` LIMIT 10' % date_stamp\n",
      "execute_query = c.execute(sql_query)\n",
      "results = execute_query.fetchall()\n",
      "print 'name_of_contributor\\t\\t\\temployer\\t\\t\\t\\tamount'\n",
      "for row in results:\n",
      "    print '%s\\t\\t\\t%s\\t\\t\\t\\t%s' % (row[0], row[1], row[2])"
     ],
     "language": "python",
     "metadata": {},
     "outputs": []
    },
    {
     "cell_type": "markdown",
     "metadata": {},
     "source": [
      "The raw data was all imported as text data to make sure nothing was mangled on the way in. Now let's make a proper amount field that we can sum up."
     ]
    },
    {
     "cell_type": "code",
     "collapsed": false,
     "input": [
      "sql_query = 'ALTER TABLE `%s_raw_contribs` ADD COLUMN fltAmount DECIMAL(16,2)' % date_stamp # create a new column to house the numeric data. right now it saved as a string value\n",
      "c.execute(sql_query)\n",
      "sql_query = 'SELECT rowid, amount, fltAmount from `%s_raw_contribs`' % date_stamp # grab the rows, \n",
      "execute_query = c.execute(sql_query)\n",
      "results = execute_query.fetchall()\n",
      "for row in results:\n",
      "    new_amount = row[1].replace('$', '').replace(',', '')\n",
      "    print '%s\\t%s\\t%s' % (row[0], row[1], new_amount) # i printed out the amounts while i was writing the script. no need for it now\n",
      "    sql_query = 'UPDATE `%s_raw_contribs` SET fltAmount = %s WHERE rowid= %s' % (date_stamp, new_amount, row[0])\n",
      "    c.execute(sql_query)"
     ],
     "language": "python",
     "metadata": {},
     "outputs": []
    },
    {
     "cell_type": "markdown",
     "metadata": {},
     "source": [
      "Cool, that worked. How much are we talking?"
     ]
    },
    {
     "cell_type": "code",
     "collapsed": false,
     "input": [
      "sql_command = '''\n",
      "    SELECT SUM(amount), SUM(fltAmount) FROM `%s_raw_contribs`\n",
      "''' % date_stamp\n",
      "execute_query = c.execute(sql_command)\n",
      "row_list = execute_query.fetchall()\n",
      "print row_list\n",
      "print row_list[0]\n",
      "print row_list[0][0]\n",
      "print row_list[0][1]"
     ],
     "language": "python",
     "metadata": {},
     "outputs": []
    },
    {
     "cell_type": "markdown",
     "metadata": {},
     "source": [
      "Notice the text field \"amount\" sums to zero while the proper number field we created sums correctly. Data types matter.\n",
      "\n",
      "Now let's parse some names."
     ]
    },
    {
     "cell_type": "code",
     "collapsed": false,
     "input": [
      "try:\n",
      "    new_field_list = ['title', 'fname', 'middle', 'lname', 'suffix', ]\n",
      "    for field in new_field_list:\n",
      "        sql_query = ''' ALTER TABLE `%s_raw_contribs` ADD %s TEXT  ''' % (date_stamp, field)\n",
      "        c.execute(sql_query)\n",
      "except:\n",
      "    print 'fields already exist'\n",
      "sql_select_command = ''' SELECT rowid, name_of_contributor FROM `%s_raw_contribs` WHERE employer <> '' AND occupation <> '' ''' % date_stamp # every sqlite table automatically has a unique row id you can use\n",
      "execute_query = c.execute(sql_select_command)\n",
      "rows = execute_query.fetchall()\n",
      "for row in rows:\n",
      "    row_id = row[0]\n",
      "    name = row[1] # python lists start counting at 0 and the full name of the contributor is the second column in the sql select statement\n",
      "    parsed_name = HumanName(name)\n",
      "    sql_command = '''\n",
      "        UPDATE `%s_raw_contribs` SET title = '%s', fname = '%s', middle = '%s', lname = '%s', suffix = '%s' WHERE rowid = %s\n",
      "    ''' % (\n",
      "           date_stamp, \n",
      "           parsed_name.title,\n",
      "           parsed_name.first,\n",
      "           parsed_name.middle,\n",
      "           parsed_name.last,\n",
      "           parsed_name.suffix,\n",
      "           row_id,\n",
      "           )\n",
      "    c.execute(sql_command)"
     ],
     "language": "python",
     "metadata": {},
     "outputs": []
    },
    {
     "cell_type": "markdown",
     "metadata": {},
     "source": [
      "Now that's done, let's see what we did."
     ]
    },
    {
     "cell_type": "code",
     "collapsed": false,
     "input": [
      "sql_command = \"SELECT rowid, name_of_contributor, title, fname, middle, lname, suffix FROM `%s_raw_contribs`;\" % (date_stamp)\n",
      "execute_query = c.execute(sql_command)\n",
      "row_list = execute_query.fetchall()\n",
      "print 'row_id\\tname_of_contributor\\t\\t\\t\\t\\ttitle\\t\\tfname\\t\\tmiddle\\tlname\\tsuffix'\n",
      "for row in row_list:\n",
      "    print '%s\\t%s\\t\\t\\t\\t%s\\t\\t%s\\t\\t%s\\t%s' % (row[0], row[1], row[2], row[3], row[4], row[5])"
     ],
     "language": "python",
     "metadata": {},
     "outputs": []
    },
    {
     "cell_type": "code",
     "collapsed": false,
     "input": [],
     "language": "python",
     "metadata": {},
     "outputs": []
    }
   ],
   "metadata": {}
  }
 ]
}